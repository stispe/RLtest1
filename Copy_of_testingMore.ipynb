{
  "nbformat": 4,
  "nbformat_minor": 0,
  "metadata": {
    "colab": {
      "name": "Copy of testingMore.ipynb",
      "provenance": [],
      "authorship_tag": "ABX9TyPgdCb/Px0i/BaOCS86gVhY",
      "include_colab_link": true
    },
    "kernelspec": {
      "name": "python3",
      "display_name": "Python 3"
    },
    "language_info": {
      "name": "python"
    }
  },
  "cells": [
    {
      "cell_type": "markdown",
      "metadata": {
        "id": "view-in-github",
        "colab_type": "text"
      },
      "source": [
        "<a href=\"https://colab.research.google.com/github/stispe/RLtest1/blob/main/Copy_of_testingMore.ipynb\" target=\"_parent\"><img src=\"https://colab.research.google.com/assets/colab-badge.svg\" alt=\"Open In Colab\"/></a>"
      ]
    },
    {
      "cell_type": "markdown",
      "source": [
        "Må test litt..."
      ],
      "metadata": {
        "id": "dNhHTkF4LYcR"
      }
    },
    {
      "cell_type": "markdown",
      "source": [
        "# New Section"
      ],
      "metadata": {
        "id": "VyKkrT-Mhjdg"
      }
    },
    {
      "cell_type": "markdown",
      "source": [
        "# New Section"
      ],
      "metadata": {
        "id": "OFfpS1_YhkEp"
      }
    },
    {
      "cell_type": "code",
      "source": [
        "import gym\n",
        "e = gym.make('CartPole-v0')\n"
      ],
      "metadata": {
        "id": "j3VCtnywPp2o"
      },
      "execution_count": null,
      "outputs": []
    }
  ]
}