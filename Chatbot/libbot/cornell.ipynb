{
  "nbformat": 4,
  "nbformat_minor": 0,
  "metadata": {
    "colab": {
      "provenance": [],
      "authorship_tag": "ABX9TyOiLMve/mwPcme1zgT4QJX5",
      "include_colab_link": true
    },
    "kernelspec": {
      "name": "python3",
      "display_name": "Python 3"
    },
    "language_info": {
      "name": "python"
    }
  },
  "cells": [
    {
      "cell_type": "markdown",
      "metadata": {
        "id": "view-in-github",
        "colab_type": "text"
      },
      "source": [
        "<a href=\"https://colab.research.google.com/github/stispe/RLtest1/blob/main/cornell.ipynb\" target=\"_parent\"><img src=\"https://colab.research.google.com/assets/colab-badge.svg\" alt=\"Open In Colab\"/></a>"
      ]
    },
    {
      "cell_type": "code",
      "execution_count": null,
      "metadata": {
        "id": "YOZkWEYVwwvz"
      },
      "outputs": [],
      "source": [
        "\"\"\"\n",
        "Cornel Movies Dialogs Corpus\n",
        "https://www.cs.cornell.edu/~cristian/Cornell_Movie-Dialogs_Corpus.html\n",
        "\"\"\"\n",
        "import os\n",
        "import logging\n",
        "\n",
        "from . import utils\n",
        "\n",
        "log = logging.getLogger(\"cornell\")\n",
        "DATA_DIR = \"data/cornell\"\n",
        "SEPARATOR = \"+++$+++\"\n",
        "\n",
        "\n",
        "def load_dialogues(data_dir=DATA_DIR, genre_filter=''):\n",
        "    \"\"\"\n",
        "    Load dialogues from cornell data\n",
        "    :return: list of list of list of words\n",
        "    \"\"\"\n",
        "    movie_set = None\n",
        "    if genre_filter:\n",
        "        movie_set = read_movie_set(data_dir, genre_filter)\n",
        "        log.info(\"Loaded %d movies with genre %s\", len(movie_set), genre_filter)\n",
        "    log.info(\"Read and tokenise phrases...\")\n",
        "    lines = read_phrases(data_dir, movies=movie_set)\n",
        "    log.info(\"Loaded %d phrases\", len(lines))\n",
        "    dialogues = load_conversations(data_dir, lines, movie_set)\n",
        "    return dialogues\n",
        "\n",
        "\n",
        "def iterate_entries(data_dir, file_name):\n",
        "    with open(os.path.join(data_dir, file_name), \"rb\") as fd:\n",
        "        for l in fd:\n",
        "            l = str(l, encoding='utf-8', errors='ignore')\n",
        "            yield list(map(str.strip, l.split(SEPARATOR)))\n",
        "\n",
        "\n",
        "def read_movie_set(data_dir, genre_filter):\n",
        "    res = set()\n",
        "    for parts in iterate_entries(data_dir, \"movie_titles_metadata.txt\"):\n",
        "        m_id, m_genres = parts[0], parts[5]\n",
        "        if m_genres.find(genre_filter) != -1:\n",
        "            res.add(m_id)\n",
        "    return res\n",
        "\n",
        "\n",
        "def read_phrases(data_dir, movies=None):\n",
        "    res = {}\n",
        "    for parts in iterate_entries(data_dir, \"movie_lines.txt\"):\n",
        "        l_id, m_id, l_str = parts[0], parts[2], parts[4]\n",
        "        if movies and m_id not in movies:\n",
        "            continue\n",
        "        tokens = utils.tokenize(l_str)\n",
        "        if tokens:\n",
        "            res[l_id] = tokens\n",
        "    return res\n",
        "\n",
        "\n",
        "def load_conversations(data_dir, lines, movies=None):\n",
        "    res = []\n",
        "    for parts in iterate_entries(data_dir, \"movie_conversations.txt\"):\n",
        "        m_id, dial_s = parts[2], parts[3]\n",
        "        if movies and m_id not in movies:\n",
        "            continue\n",
        "        l_ids = dial_s.strip(\"[]\").split(\", \")\n",
        "        l_ids = list(map(lambda s: s.strip(\"'\"), l_ids))\n",
        "        dial = [lines[l_id] for l_id in l_ids if l_id in lines]\n",
        "        if dial:\n",
        "            res.append(dial)\n",
        "    return res\n",
        "\n",
        "\n",
        "def read_genres(data_dir):\n",
        "    res = {}\n",
        "    for parts in iterate_entries(data_dir, \"movie_titles_metadata.txt\"):\n",
        "        m_id, m_genres = parts[0], parts[5]\n",
        "        l_genres = m_genres.strip(\"[]\").split(\", \")\n",
        "        l_genres = list(map(lambda s: s.strip(\"'\"), l_genres))\n",
        "        res[m_id] = l_genres\n",
        "    return res"
      ]
    }
  ]
}
