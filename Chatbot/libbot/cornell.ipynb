{
  "nbformat": 4,
  "nbformat_minor": 0,
  "metadata": {
    "colab": {
      "provenance": [],
      "authorship_tag": "ABX9TyPAZnSmPsZNmMwcpYg2oM64",
      "include_colab_link": true
    },
    "kernelspec": {
      "name": "python3",
      "display_name": "Python 3"
    },
    "language_info": {
      "name": "python"
    }
  },
  "cells": [
    {
      "cell_type": "markdown",
      "metadata": {
        "id": "view-in-github",
        "colab_type": "text"
      },
      "source": [
        "<a href=\"https://colab.research.google.com/github/stispe/RLtest1/blob/main/Chatbot/libbot/cornell.ipynb\" target=\"_parent\"><img src=\"https://colab.research.google.com/assets/colab-badge.svg\" alt=\"Open In Colab\"/></a>"
      ]
    },
    {
      "cell_type": "code",
      "source": [
        "!pip install import_ipynb"
      ],
      "metadata": {
        "id": "4oRl_LwKXJQA",
        "outputId": "2d466bbd-458d-4060-917e-81067f7c103e",
        "colab": {
          "base_uri": "https://localhost:8080/"
        }
      },
      "execution_count": 1,
      "outputs": [
        {
          "output_type": "stream",
          "name": "stdout",
          "text": [
            "Looking in indexes: https://pypi.org/simple, https://us-python.pkg.dev/colab-wheels/public/simple/\n",
            "Collecting import_ipynb\n",
            "  Downloading import_ipynb-0.1.4-py3-none-any.whl (4.1 kB)\n",
            "Requirement already satisfied: IPython in /usr/local/lib/python3.7/dist-packages (from import_ipynb) (7.9.0)\n",
            "Requirement already satisfied: nbformat in /usr/local/lib/python3.7/dist-packages (from import_ipynb) (5.4.0)\n",
            "Requirement already satisfied: setuptools>=18.5 in /usr/local/lib/python3.7/dist-packages (from IPython->import_ipynb) (57.4.0)\n",
            "Requirement already satisfied: decorator in /usr/local/lib/python3.7/dist-packages (from IPython->import_ipynb) (4.4.2)\n",
            "Requirement already satisfied: backcall in /usr/local/lib/python3.7/dist-packages (from IPython->import_ipynb) (0.2.0)\n",
            "Collecting jedi>=0.10\n",
            "  Downloading jedi-0.18.1-py2.py3-none-any.whl (1.6 MB)\n",
            "\u001b[K     |████████████████████████████████| 1.6 MB 5.0 MB/s \n",
            "\u001b[?25hRequirement already satisfied: traitlets>=4.2 in /usr/local/lib/python3.7/dist-packages (from IPython->import_ipynb) (5.1.1)\n",
            "Requirement already satisfied: prompt-toolkit<2.1.0,>=2.0.0 in /usr/local/lib/python3.7/dist-packages (from IPython->import_ipynb) (2.0.10)\n",
            "Requirement already satisfied: pexpect in /usr/local/lib/python3.7/dist-packages (from IPython->import_ipynb) (4.8.0)\n",
            "Requirement already satisfied: pickleshare in /usr/local/lib/python3.7/dist-packages (from IPython->import_ipynb) (0.7.5)\n",
            "Requirement already satisfied: pygments in /usr/local/lib/python3.7/dist-packages (from IPython->import_ipynb) (2.6.1)\n",
            "Requirement already satisfied: parso<0.9.0,>=0.8.0 in /usr/local/lib/python3.7/dist-packages (from jedi>=0.10->IPython->import_ipynb) (0.8.3)\n",
            "Requirement already satisfied: wcwidth in /usr/local/lib/python3.7/dist-packages (from prompt-toolkit<2.1.0,>=2.0.0->IPython->import_ipynb) (0.2.5)\n",
            "Requirement already satisfied: six>=1.9.0 in /usr/local/lib/python3.7/dist-packages (from prompt-toolkit<2.1.0,>=2.0.0->IPython->import_ipynb) (1.15.0)\n",
            "Requirement already satisfied: fastjsonschema in /usr/local/lib/python3.7/dist-packages (from nbformat->import_ipynb) (2.16.1)\n",
            "Requirement already satisfied: jupyter-core in /usr/local/lib/python3.7/dist-packages (from nbformat->import_ipynb) (4.11.1)\n",
            "Requirement already satisfied: jsonschema>=2.6 in /usr/local/lib/python3.7/dist-packages (from nbformat->import_ipynb) (4.3.3)\n",
            "Requirement already satisfied: importlib-metadata in /usr/local/lib/python3.7/dist-packages (from jsonschema>=2.6->nbformat->import_ipynb) (4.12.0)\n",
            "Requirement already satisfied: pyrsistent!=0.17.0,!=0.17.1,!=0.17.2,>=0.14.0 in /usr/local/lib/python3.7/dist-packages (from jsonschema>=2.6->nbformat->import_ipynb) (0.18.1)\n",
            "Requirement already satisfied: typing-extensions in /usr/local/lib/python3.7/dist-packages (from jsonschema>=2.6->nbformat->import_ipynb) (4.1.1)\n",
            "Requirement already satisfied: importlib-resources>=1.4.0 in /usr/local/lib/python3.7/dist-packages (from jsonschema>=2.6->nbformat->import_ipynb) (5.9.0)\n",
            "Requirement already satisfied: attrs>=17.4.0 in /usr/local/lib/python3.7/dist-packages (from jsonschema>=2.6->nbformat->import_ipynb) (22.1.0)\n",
            "Requirement already satisfied: zipp>=3.1.0 in /usr/local/lib/python3.7/dist-packages (from importlib-resources>=1.4.0->jsonschema>=2.6->nbformat->import_ipynb) (3.8.1)\n",
            "Requirement already satisfied: ptyprocess>=0.5 in /usr/local/lib/python3.7/dist-packages (from pexpect->IPython->import_ipynb) (0.7.0)\n",
            "Installing collected packages: jedi, import-ipynb\n",
            "Successfully installed import-ipynb-0.1.4 jedi-0.18.1\n"
          ]
        }
      ]
    },
    {
      "cell_type": "markdown",
      "source": [
        "**Drag & drop the file utils.ipynb onto the Files in left menu** (to download in github, cklick on Raw, and right-click and SaveAs..."
      ],
      "metadata": {
        "id": "tnhaetG4iGOI"
      }
    },
    {
      "cell_type": "code",
      "source": [
        "import import_ipynb"
      ],
      "metadata": {
        "id": "AT34GxrYiD4_"
      },
      "execution_count": 2,
      "outputs": []
    },
    {
      "cell_type": "code",
      "execution_count": 4,
      "metadata": {
        "id": "YOZkWEYVwwvz"
      },
      "outputs": [],
      "source": [
        "\"\"\"\n",
        "Cornel Movies Dialogs Corpus\n",
        "https://www.cs.cornell.edu/~cristian/Cornell_Movie-Dialogs_Corpus.html\n",
        "\"\"\"\n",
        "import os\n",
        "import logging\n",
        "\n",
        "from utils import *\n",
        "\n",
        "log = logging.getLogger(\"cornell\")\n",
        "DATA_DIR = \"data/cornell\"\n",
        "SEPARATOR = \"+++$+++\"\n",
        "\n",
        "\n",
        "def load_dialogues(data_dir=DATA_DIR, genre_filter=''):\n",
        "    \"\"\"\n",
        "    Load dialogues from cornell data\n",
        "    :return: list of list of list of words\n",
        "    \"\"\"\n",
        "    movie_set = None\n",
        "    if genre_filter:\n",
        "        movie_set = read_movie_set(data_dir, genre_filter)\n",
        "        log.info(\"Loaded %d movies with genre %s\", len(movie_set), genre_filter)\n",
        "    log.info(\"Read and tokenise phrases...\")\n",
        "    lines = read_phrases(data_dir, movies=movie_set)\n",
        "    log.info(\"Loaded %d phrases\", len(lines))\n",
        "    dialogues = load_conversations(data_dir, lines, movie_set)\n",
        "    return dialogues\n",
        "\n",
        "\n",
        "def iterate_entries(data_dir, file_name):\n",
        "    with open(os.path.join(data_dir, file_name), \"rb\") as fd:\n",
        "        for l in fd:\n",
        "            l = str(l, encoding='utf-8', errors='ignore')\n",
        "            yield list(map(str.strip, l.split(SEPARATOR)))\n",
        "\n",
        "\n",
        "def read_movie_set(data_dir, genre_filter):\n",
        "    res = set()\n",
        "    for parts in iterate_entries(data_dir, \"movie_titles_metadata.txt\"):\n",
        "        m_id, m_genres = parts[0], parts[5]\n",
        "        if m_genres.find(genre_filter) != -1:\n",
        "            res.add(m_id)\n",
        "    return res\n",
        "\n",
        "\n",
        "def read_phrases(data_dir, movies=None):\n",
        "    res = {}\n",
        "    for parts in iterate_entries(data_dir, \"movie_lines.txt\"):\n",
        "        l_id, m_id, l_str = parts[0], parts[2], parts[4]\n",
        "        if movies and m_id not in movies:\n",
        "            continue\n",
        "        tokens = utils.tokenize(l_str)\n",
        "        if tokens:\n",
        "            res[l_id] = tokens\n",
        "    return res\n",
        "\n",
        "\n",
        "def load_conversations(data_dir, lines, movies=None):\n",
        "    res = []\n",
        "    for parts in iterate_entries(data_dir, \"movie_conversations.txt\"):\n",
        "        m_id, dial_s = parts[2], parts[3]\n",
        "        if movies and m_id not in movies:\n",
        "            continue\n",
        "        l_ids = dial_s.strip(\"[]\").split(\", \")\n",
        "        l_ids = list(map(lambda s: s.strip(\"'\"), l_ids))\n",
        "        dial = [lines[l_id] for l_id in l_ids if l_id in lines]\n",
        "        if dial:\n",
        "            res.append(dial)\n",
        "    return res\n",
        "\n",
        "\n",
        "def read_genres(data_dir):\n",
        "    res = {}\n",
        "    for parts in iterate_entries(data_dir, \"movie_titles_metadata.txt\"):\n",
        "        m_id, m_genres = parts[0], parts[5]\n",
        "        l_genres = m_genres.strip(\"[]\").split(\", \")\n",
        "        l_genres = list(map(lambda s: s.strip(\"'\"), l_genres))\n",
        "        res[m_id] = l_genres\n",
        "    return res"
      ]
    },
    {
      "cell_type": "markdown",
      "source": [
        "# New Section"
      ],
      "metadata": {
        "id": "4vV1LzUI-_oq"
      }
    }
  ]
}