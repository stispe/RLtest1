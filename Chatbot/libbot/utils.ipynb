{
  "nbformat": 4,
  "nbformat_minor": 0,
  "metadata": {
    "colab": {
      "provenance": [],
      "authorship_tag": "ABX9TyN5G5zrEDlP0YWuCBHn1m0t",
      "include_colab_link": true
    },
    "kernelspec": {
      "name": "python3",
      "display_name": "Python 3"
    },
    "language_info": {
      "name": "python"
    }
  },
  "cells": [
    {
      "cell_type": "markdown",
      "metadata": {
        "id": "view-in-github",
        "colab_type": "text"
      },
      "source": [
        "<a href=\"https://colab.research.google.com/github/stispe/RLtest1/blob/main/Chatbot/libbot/utils.ipynb\" target=\"_parent\"><img src=\"https://colab.research.google.com/assets/colab-badge.svg\" alt=\"Open In Colab\"/></a>"
      ]
    },
    {
      "cell_type": "code",
      "execution_count": null,
      "metadata": {
        "id": "CSACQav_z5L-"
      },
      "outputs": [],
      "source": [
        "import string\n",
        "from nltk.translate import bleu_score\n",
        "from nltk.tokenize import TweetTokenizer\n",
        "\n",
        "\n",
        "def calc_bleu_many(cand_seq, ref_sequences):\n",
        "    sf = bleu_score.SmoothingFunction()\n",
        "    return bleu_score.sentence_bleu(ref_sequences, cand_seq,\n",
        "                                    smoothing_function=sf.method1,\n",
        "                                    weights=(0.5, 0.5))\n",
        "\n",
        "def calc_bleu(cand_seq, ref_seq):\n",
        "    return calc_bleu_many(cand_seq, [ref_seq])\n",
        "\n",
        "def tokenize(s):\n",
        "    return TweetTokenizer(preserve_case=False).tokenize(s)\n",
        "\n",
        "def untokenize(words):\n",
        "    return \"\".join([\" \" + i if not i.startswith(\"'\") and i not in string.punctuation else i for i in words]).strip()"
      ]
    }
  ]
}
