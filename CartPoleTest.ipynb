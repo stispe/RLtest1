{
  "nbformat": 4,
  "nbformat_minor": 0,
  "metadata": {
    "colab": {
      "name": "Untitled6.ipynb",
      "provenance": [],
      "authorship_tag": "ABX9TyOD7Yl/hwCqO8bu2w4ieBgc",
      "include_colab_link": true
    },
    "kernelspec": {
      "name": "python3",
      "display_name": "Python 3"
    },
    "language_info": {
      "name": "python"
    }
  },
  "cells": [
    {
      "cell_type": "markdown",
      "metadata": {
        "id": "view-in-github",
        "colab_type": "text"
      },
      "source": [
        "<a href=\"https://colab.research.google.com/github/stispe/RLtest1/blob/main/CartPoleTest.ipynb\" target=\"_parent\"><img src=\"https://colab.research.google.com/assets/colab-badge.svg\" alt=\"Open In Colab\"/></a>"
      ]
    },
    {
      "cell_type": "markdown",
      "source": [
        "# Initialization"
      ],
      "metadata": {
        "id": "7YEdbXirY69v"
      }
    },
    {
      "cell_type": "code",
      "source": [
        "pip install tensorboardX"
      ],
      "metadata": {
        "colab": {
          "base_uri": "https://localhost:8080/"
        },
        "id": "g586p3cJmTpS",
        "outputId": "590bd963-f92b-4ef2-9cea-1889503a52e7"
      },
      "execution_count": 2,
      "outputs": [
        {
          "output_type": "stream",
          "name": "stdout",
          "text": [
            "Looking in indexes: https://pypi.org/simple, https://us-python.pkg.dev/colab-wheels/public/simple/\n",
            "Collecting tensorboardX\n",
            "  Downloading tensorboardX-2.5.1-py2.py3-none-any.whl (125 kB)\n",
            "\u001b[K     |████████████████████████████████| 125 kB 5.1 MB/s \n",
            "\u001b[?25hRequirement already satisfied: numpy in /usr/local/lib/python3.7/dist-packages (from tensorboardX) (1.21.6)\n",
            "Requirement already satisfied: protobuf<=3.20.1,>=3.8.0 in /usr/local/lib/python3.7/dist-packages (from tensorboardX) (3.17.3)\n",
            "Requirement already satisfied: six>=1.9 in /usr/local/lib/python3.7/dist-packages (from protobuf<=3.20.1,>=3.8.0->tensorboardX) (1.15.0)\n",
            "Installing collected packages: tensorboardX\n",
            "Successfully installed tensorboardX-2.5.1\n"
          ]
        }
      ]
    },
    {
      "cell_type": "code",
      "source": [
        "import gym\n",
        "from collections import namedtuple\n",
        "import numpy as np\n",
        "from tensorboardX import SummaryWriter\n",
        "\n",
        "import torch\n",
        "import torch.nn as nn\n",
        "import torch.optim as optim\n",
        "\n",
        "\n",
        "HIDDEN_SIZE = 128\n",
        "BATCH_SIZE = 16\n",
        "PERCENTILE = 70"
      ],
      "metadata": {
        "id": "oE794vdbY2d-"
      },
      "execution_count": 3,
      "outputs": []
    },
    {
      "cell_type": "markdown",
      "source": [
        "# Class Net"
      ],
      "metadata": {
        "id": "25t41C61ZDHn"
      }
    },
    {
      "cell_type": "code",
      "source": [
        "class Net(nn.Module):\n",
        "    def __init__(self, obs_size, hidden_size, n_actions):\n",
        "        super(Net, self).__init__()\n",
        "        self.net = nn.Sequential(\n",
        "            nn.Linear(obs_size, hidden_size),\n",
        "            nn.ReLU(),\n",
        "            nn.Linear(hidden_size, n_actions)\n",
        "        )\n",
        "\n",
        "    def forward(self, x):\n",
        "        return self.net(x)\n"
      ],
      "metadata": {
        "id": "tgf61TXwY6WS"
      },
      "execution_count": 4,
      "outputs": []
    },
    {
      "cell_type": "markdown",
      "source": [
        "# More initializations\n"
      ],
      "metadata": {
        "id": "GI6eMEGuZG44"
      }
    },
    {
      "cell_type": "code",
      "source": [
        "Episode = namedtuple('Episode', field_names=['reward', 'steps'])\n",
        "EpisodeStep = namedtuple('EpisodeStep', field_names=['observation', 'action'])"
      ],
      "metadata": {
        "id": "PrBEfVGTZOyV"
      },
      "execution_count": 5,
      "outputs": []
    },
    {
      "cell_type": "markdown",
      "source": [
        "# interate_batches function"
      ],
      "metadata": {
        "id": "lE5L2XEOZUjU"
      }
    },
    {
      "cell_type": "code",
      "source": [
        "\n",
        "def iterate_batches(env, net, batch_size):\n",
        "    batch = []\n",
        "    episode_reward = 0.0\n",
        "    episode_steps = []\n",
        "    obs = env.reset()\n",
        "    sm = nn.Softmax(dim=1)\n",
        "    while True:\n",
        "        obs_v = torch.FloatTensor([obs])\n",
        "        act_probs_v = sm(net(obs_v))\n",
        "        act_probs = act_probs_v.data.numpy()[0]\n",
        "        action = np.random.choice(len(act_probs), p=act_probs)\n",
        "        next_obs, reward, is_done, _ = env.step(action)\n",
        "        episode_reward += reward\n",
        "        step = EpisodeStep(observation=obs, action=action)\n",
        "        episode_steps.append(step)\n",
        "        if is_done:\n",
        "            e = Episode(reward=episode_reward, steps=episode_steps)\n",
        "            batch.append(e)\n",
        "            episode_reward = 0.0\n",
        "            episode_steps = []\n",
        "            next_obs = env.reset()\n",
        "            if len(batch) == batch_size:\n",
        "                yield batch\n",
        "                batch = []\n",
        "        obs = next_obs"
      ],
      "metadata": {
        "id": "lIJN4xKlZRcV"
      },
      "execution_count": 6,
      "outputs": []
    },
    {
      "cell_type": "markdown",
      "source": [
        "# filter_batch"
      ],
      "metadata": {
        "id": "68zvZJJJZa8P"
      }
    },
    {
      "cell_type": "code",
      "source": [
        "def filter_batch(batch, percentile):\n",
        "    rewards = list(map(lambda s: s.reward, batch))\n",
        "    reward_bound = np.percentile(rewards, percentile)\n",
        "    reward_mean = float(np.mean(rewards))\n",
        "\n",
        "    train_obs = []\n",
        "    train_act = []\n",
        "    for reward, steps in batch:\n",
        "        if reward < reward_bound:\n",
        "            continue\n",
        "        train_obs.extend(map(lambda step: step.observation, steps))\n",
        "        train_act.extend(map(lambda step: step.action, steps))\n",
        "\n",
        "    train_obs_v = torch.FloatTensor(train_obs)\n",
        "    train_act_v = torch.LongTensor(train_act)\n",
        "    return train_obs_v, train_act_v, reward_bound, reward_mean"
      ],
      "metadata": {
        "id": "HUF6lO0sZjxS"
      },
      "execution_count": 7,
      "outputs": []
    },
    {
      "cell_type": "markdown",
      "source": [
        "# Main"
      ],
      "metadata": {
        "id": "2gXfCIAFZmEN"
      }
    },
    {
      "cell_type": "code",
      "source": [
        "if __name__ == \"__main__\":\n",
        "    env = gym.make(\"CartPole-v0\")\n",
        "    # env = gym.wrappers.Monitor(env, directory=\"mon\", force=True)\n",
        "    obs_size = env.observation_space.shape[0]\n",
        "    n_actions = env.action_space.n\n",
        "\n",
        "    net = Net(obs_size, HIDDEN_SIZE, n_actions)\n",
        "    objective = nn.CrossEntropyLoss()\n",
        "    optimizer = optim.Adam(params=net.parameters(), lr=0.01)\n",
        "    writer = SummaryWriter(comment=\"-cartpole\")\n",
        "\n",
        "    for iter_no, batch in enumerate(iterate_batches(\n",
        "            env, net, BATCH_SIZE)):\n",
        "        obs_v, acts_v, reward_b, reward_m = \\\n",
        "            filter_batch(batch, PERCENTILE)\n",
        "        optimizer.zero_grad()\n",
        "        action_scores_v = net(obs_v)\n",
        "        loss_v = objective(action_scores_v, acts_v)\n",
        "        loss_v.backward()\n",
        "        optimizer.step()\n",
        "        print(\"%d: loss=%.3f, reward_mean=%.1f, rw_bound=%.1f\" % (\n",
        "            iter_no, loss_v.item(), reward_m, reward_b))\n",
        "        writer.add_scalar(\"loss\", loss_v.item(), iter_no)\n",
        "        writer.add_scalar(\"reward_bound\", reward_b, iter_no)\n",
        "        writer.add_scalar(\"reward_mean\", reward_m, iter_no)\n",
        "        if reward_m > 199:\n",
        "            print(\"Solved!\")\n",
        "            break\n",
        "    writer.close()"
      ],
      "metadata": {
        "colab": {
          "base_uri": "https://localhost:8080/"
        },
        "id": "1btcQUYgZrva",
        "outputId": "2454c40d-0aa4-4d57-fd04-23cc751193dd"
      },
      "execution_count": 8,
      "outputs": [
        {
          "output_type": "stream",
          "name": "stderr",
          "text": [
            "/usr/local/lib/python3.7/dist-packages/ipykernel_launcher.py:9: UserWarning: Creating a tensor from a list of numpy.ndarrays is extremely slow. Please consider converting the list to a single numpy.ndarray with numpy.array() before converting to a tensor. (Triggered internally at  ../torch/csrc/utils/tensor_new.cpp:201.)\n",
            "  if __name__ == '__main__':\n"
          ]
        },
        {
          "output_type": "stream",
          "name": "stdout",
          "text": [
            "0: loss=0.697, reward_mean=26.9, rw_bound=27.0\n",
            "1: loss=0.682, reward_mean=24.1, rw_bound=28.5\n",
            "2: loss=0.687, reward_mean=28.1, rw_bound=34.5\n",
            "3: loss=0.670, reward_mean=36.9, rw_bound=53.0\n",
            "4: loss=0.665, reward_mean=36.9, rw_bound=43.5\n",
            "5: loss=0.649, reward_mean=37.9, rw_bound=43.0\n",
            "6: loss=0.638, reward_mean=37.6, rw_bound=46.5\n",
            "7: loss=0.650, reward_mean=45.8, rw_bound=49.0\n",
            "8: loss=0.621, reward_mean=34.9, rw_bound=42.5\n",
            "9: loss=0.632, reward_mean=54.7, rw_bound=59.0\n",
            "10: loss=0.620, reward_mean=85.2, rw_bound=100.5\n",
            "11: loss=0.614, reward_mean=62.8, rw_bound=69.0\n",
            "12: loss=0.607, reward_mean=80.9, rw_bound=95.0\n",
            "13: loss=0.594, reward_mean=95.8, rw_bound=114.0\n",
            "14: loss=0.595, reward_mean=85.6, rw_bound=115.5\n",
            "15: loss=0.594, reward_mean=89.8, rw_bound=111.0\n",
            "16: loss=0.586, reward_mean=104.1, rw_bound=133.5\n",
            "17: loss=0.588, reward_mean=76.9, rw_bound=105.0\n",
            "18: loss=0.579, reward_mean=104.2, rw_bound=130.0\n",
            "19: loss=0.561, reward_mean=111.4, rw_bound=128.0\n",
            "20: loss=0.587, reward_mean=125.4, rw_bound=150.0\n",
            "21: loss=0.558, reward_mean=133.8, rw_bound=149.0\n",
            "22: loss=0.567, reward_mean=144.2, rw_bound=164.0\n",
            "23: loss=0.573, reward_mean=135.7, rw_bound=158.5\n",
            "24: loss=0.553, reward_mean=141.8, rw_bound=174.0\n",
            "25: loss=0.565, reward_mean=144.2, rw_bound=171.0\n",
            "26: loss=0.557, reward_mean=169.1, rw_bound=200.0\n",
            "27: loss=0.558, reward_mean=156.1, rw_bound=200.0\n",
            "28: loss=0.557, reward_mean=176.9, rw_bound=200.0\n",
            "29: loss=0.554, reward_mean=184.9, rw_bound=200.0\n",
            "30: loss=0.554, reward_mean=175.3, rw_bound=200.0\n",
            "31: loss=0.547, reward_mean=180.6, rw_bound=200.0\n",
            "32: loss=0.560, reward_mean=195.6, rw_bound=200.0\n",
            "33: loss=0.536, reward_mean=194.2, rw_bound=200.0\n",
            "34: loss=0.550, reward_mean=192.4, rw_bound=200.0\n",
            "35: loss=0.546, reward_mean=189.1, rw_bound=200.0\n",
            "36: loss=0.539, reward_mean=200.0, rw_bound=200.0\n",
            "Solved!\n"
          ]
        }
      ]
    },
    {
      "cell_type": "markdown",
      "source": [
        "# **SOURCE**"
      ],
      "metadata": {
        "id": "6LI5Kfz9ZwS3"
      }
    },
    {
      "cell_type": "code",
      "execution_count": null,
      "metadata": {
        "id": "iUgj8mXYYuaD"
      },
      "outputs": [],
      "source": [
        "#!/usr/bin/env python3\n",
        "import gym\n",
        "from collections import namedtuple\n",
        "import numpy as np\n",
        "from tensorboardX import SummaryWriter\n",
        "\n",
        "import torch\n",
        "import torch.nn as nn\n",
        "import torch.optim as optim\n",
        "\n",
        "\n",
        "HIDDEN_SIZE = 128\n",
        "BATCH_SIZE = 16\n",
        "PERCENTILE = 70\n",
        "\n",
        "\n",
        "class Net(nn.Module):\n",
        "    def __init__(self, obs_size, hidden_size, n_actions):\n",
        "        super(Net, self).__init__()\n",
        "        self.net = nn.Sequential(\n",
        "            nn.Linear(obs_size, hidden_size),\n",
        "            nn.ReLU(),\n",
        "            nn.Linear(hidden_size, n_actions)\n",
        "        )\n",
        "\n",
        "    def forward(self, x):\n",
        "        return self.net(x)\n",
        "\n",
        "\n",
        "Episode = namedtuple('Episode', field_names=['reward', 'steps'])\n",
        "EpisodeStep = namedtuple('EpisodeStep', field_names=['observation', 'action'])\n",
        "\n",
        "\n",
        "def iterate_batches(env, net, batch_size):\n",
        "    batch = []\n",
        "    episode_reward = 0.0\n",
        "    episode_steps = []\n",
        "    obs = env.reset()\n",
        "    sm = nn.Softmax(dim=1)\n",
        "    while True:\n",
        "        obs_v = torch.FloatTensor([obs])\n",
        "        act_probs_v = sm(net(obs_v))\n",
        "        act_probs = act_probs_v.data.numpy()[0]\n",
        "        action = np.random.choice(len(act_probs), p=act_probs)\n",
        "        next_obs, reward, is_done, _ = env.step(action)\n",
        "        episode_reward += reward\n",
        "        step = EpisodeStep(observation=obs, action=action)\n",
        "        episode_steps.append(step)\n",
        "        if is_done:\n",
        "            e = Episode(reward=episode_reward, steps=episode_steps)\n",
        "            batch.append(e)\n",
        "            episode_reward = 0.0\n",
        "            episode_steps = []\n",
        "            next_obs = env.reset()\n",
        "            if len(batch) == batch_size:\n",
        "                yield batch\n",
        "                batch = []\n",
        "        obs = next_obs\n",
        "\n",
        "\n",
        "def filter_batch(batch, percentile):\n",
        "    rewards = list(map(lambda s: s.reward, batch))\n",
        "    reward_bound = np.percentile(rewards, percentile)\n",
        "    reward_mean = float(np.mean(rewards))\n",
        "\n",
        "    train_obs = []\n",
        "    train_act = []\n",
        "    for reward, steps in batch:\n",
        "        if reward < reward_bound:\n",
        "            continue\n",
        "        train_obs.extend(map(lambda step: step.observation, steps))\n",
        "        train_act.extend(map(lambda step: step.action, steps))\n",
        "\n",
        "    train_obs_v = torch.FloatTensor(train_obs)\n",
        "    train_act_v = torch.LongTensor(train_act)\n",
        "    return train_obs_v, train_act_v, reward_bound, reward_mean\n",
        "\n",
        "\n",
        "if __name__ == \"__main__\":\n",
        "    env = gym.make(\"CartPole-v0\")\n",
        "    # env = gym.wrappers.Monitor(env, directory=\"mon\", force=True)\n",
        "    obs_size = env.observation_space.shape[0]\n",
        "    n_actions = env.action_space.n\n",
        "\n",
        "    net = Net(obs_size, HIDDEN_SIZE, n_actions)\n",
        "    objective = nn.CrossEntropyLoss()\n",
        "    optimizer = optim.Adam(params=net.parameters(), lr=0.01)\n",
        "    writer = SummaryWriter(comment=\"-cartpole\")\n",
        "\n",
        "    for iter_no, batch in enumerate(iterate_batches(\n",
        "            env, net, BATCH_SIZE)):\n",
        "        obs_v, acts_v, reward_b, reward_m = \\\n",
        "            filter_batch(batch, PERCENTILE)\n",
        "        optimizer.zero_grad()\n",
        "        action_scores_v = net(obs_v)\n",
        "        loss_v = objective(action_scores_v, acts_v)\n",
        "        loss_v.backward()\n",
        "        optimizer.step()\n",
        "        print(\"%d: loss=%.3f, reward_mean=%.1f, rw_bound=%.1f\" % (\n",
        "            iter_no, loss_v.item(), reward_m, reward_b))\n",
        "        writer.add_scalar(\"loss\", loss_v.item(), iter_no)\n",
        "        writer.add_scalar(\"reward_bound\", reward_b, iter_no)\n",
        "        writer.add_scalar(\"reward_mean\", reward_m, iter_no)\n",
        "        if reward_m > 199:\n",
        "            print(\"Solved!\")\n",
        "            break\n",
        "    writer.close()"
      ]
    }
  ]
}