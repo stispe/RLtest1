{
  "cells": [
    {
      "cell_type": "markdown",
      "metadata": {
        "id": "view-in-github",
        "colab_type": "text"
      },
      "source": [
        "<a href=\"https://colab.research.google.com/github/stispe/RLtest1/blob/main/t81_558_class_12_01_ai_gym.ipynb\" target=\"_parent\"><img src=\"https://colab.research.google.com/assets/colab-badge.svg\" alt=\"Open In Colab\"/></a>"
      ]
    },
    {
      "cell_type": "markdown",
      "metadata": {
        "id": "N58_HAIBIeX6"
      },
      "source": [
        "<a href=\"https://colab.research.google.com/github/jeffheaton/t81_558_deep_learning/blob/master/t81_558_class_12_01_ai_gym.ipynb\" target=\"_parent\"><img src=\"https://colab.research.google.com/assets/colab-badge.svg\" alt=\"Open In Colab\"/></a>"
      ]
    },
    {
      "cell_type": "markdown",
      "metadata": {
        "id": "dnID4yguIeX7"
      },
      "source": [
        "# T81-558: Applications of Deep Neural Networks\n",
        "**Module 12: Reinforcement Learning**\n",
        "* Instructor: [Jeff Heaton](https://sites.wustl.edu/jeffheaton/), McKelvey School of Engineering, [Washington University in St. Louis](https://engineering.wustl.edu/Programs/Pages/default.aspx)\n",
        "* For more information visit the [class website](https://sites.wustl.edu/jeffheaton/t81-558/)."
      ]
    },
    {
      "cell_type": "markdown",
      "metadata": {
        "id": "w7l5rd2MIeX8"
      },
      "source": [
        "# Module 12 Video Material\n",
        "\n",
        "* **Part 12.1: Introduction to the OpenAI Gym** [[Video]](https://www.youtube.com/watch?v=_KbUxgyisjM&list=PLjy4p-07OYzulelvJ5KVaT2pDlxivl_BN) [[Notebook]](https://github.com/jeffheaton/t81_558_deep_learning/blob/master/t81_558_class_12_01_ai_gym.ipynb)\n",
        "* Part 12.2: Introduction to Q-Learning [[Video]](https://www.youtube.com/watch?v=A3sYFcJY3lA&list=PLjy4p-07OYzulelvJ5KVaT2pDlxivl_BN) [[Notebook]](https://github.com/jeffheaton/t81_558_deep_learning/blob/master/t81_558_class_12_02_qlearningreinforcement.ipynb)\n",
        "* Part 12.3: Keras Q-Learning in the OpenAI Gym [[Video]](https://www.youtube.com/watch?v=qy1SJmsRhvM&list=PLjy4p-07OYzulelvJ5KVaT2pDlxivl_BN) [[Notebook]](https://github.com/jeffheaton/t81_558_deep_learning/blob/master/t81_558_class_12_03_keras_reinforce.ipynb)\n",
        "* Part 12.4: Atari Games with Keras Neural Networks [[Video]](https://www.youtube.com/watch?v=co0SwPWoZh0&list=PLjy4p-07OYzulelvJ5KVaT2pDlxivl_BN) [[Notebook]](https://github.com/jeffheaton/t81_558_deep_learning/blob/master/t81_558_class_12_04_atari.ipynb)\n",
        "* Part 12.5: Application of Reinforcement Learning [[Video]](https://www.youtube.com/watch?v=1jQPP3RfwMI&list=PLjy4p-07OYzulelvJ5KVaT2pDlxivl_BN) [[Notebook]](https://github.com/jeffheaton/t81_558_deep_learning/blob/master/t81_558_class_12_05_apply_rl.ipynb)\n"
      ]
    },
    {
      "cell_type": "markdown",
      "metadata": {
        "id": "UImTzmGTIeX9"
      },
      "source": [
        "# Part 12.1: Introduction to the OpenAI Gym\n",
        "\n",
        "[OpenAI Gym](https://gym.openai.com/) aims to provide an easy-to-setup general-intelligence benchmark with various environments. The goal is to standardize how environments are defined in AI research publications to make published research more easily reproducible. The project claims to provide the user with a simple interface. As of June 2017, developers can only use Gym with Python. \n",
        "\n",
        "OpenAI gym is pip-installed onto your local machine. There are a few significant limitations to be aware of:\n",
        "\n",
        "* OpenAI Gym Atari only **directly** supports Linux and Macintosh\n",
        "* OpenAI Gym Atari can be used with Windows; however, it requires a particular [installation procedure](https://towardsdatascience.com/how-to-install-openai-gym-in-a-windows-environment-338969e24d30)\n",
        "* OpenAI Gym can not directly render animated games in Google CoLab.\n",
        "\n",
        "Because OpenAI Gym requires a graphics display, an embedded video is the only way to display Gym in Google CoLab. The presentation of OpenAI Gym game animations in Google CoLab is discussed later in this module.\n",
        "\n",
        "## OpenAI Gym Leaderboard\n",
        "\n",
        "The OpenAI Gym does have a leaderboard, similar to Kaggle; however, the OpenAI Gym's leaderboard is much more informal compared to Kaggle. The user's local machine performs all scoring. As a result, the OpenAI gym's leaderboard is strictly an \"honor system.\"  The leaderboard is maintained in the following GitHub repository:\n",
        "\n",
        "* [OpenAI Gym Leaderboard](https://github.com/openai/gym/wiki/Leaderboard)\n",
        "\n",
        "You must provide a write-up with sufficient instructions to reproduce your result if you submit a score. A video of your results is suggested but not required.\n",
        "\n",
        "## Looking at Gym Environments\n",
        "\n",
        "The centerpiece of Gym is the environment, which defines the \"game\" in which your reinforcement algorithm will compete. An environment does not need to be a game; however, it describes the following game-like features:\n",
        "* **action space**: What actions can we take on the environment at each step/episode to alter the environment.\n",
        "* **observation space**: What is the current state of the portion of the environment that we can observe. Usually, we can see the entire environment.\n",
        "\n",
        "Before we begin to look at Gym, it is essential to understand some of the terminology used by this library.\n",
        "\n",
        "* **Agent** - The machine learning program or model that controls the actions.\n",
        "Step - One round of issuing actions that affect the observation space.\n",
        "* **Episode** - A collection of steps that terminates when the agent fails to meet the environment's objective or the episode reaches the maximum number of allowed steps.\n",
        "* **Render** - Gym can render one frame for display after each episode.\n",
        "* **Reward** - A positive reinforcement that can occur at the end of each episode, after the agent acts.\n",
        "* **Non-deterministic** - For some environments, randomness is a factor in deciding what effects actions have on reward and changes to the observation space.\n",
        "\n",
        "It is important to note that many gym environments specify that they are not non-deterministic even though they use random numbers to process actions. Based on the gym GitHub issue tracker, a non-deterministic property means a deterministic environment behaves randomly. Even when you give the environment a consistent seed value, this behavior is confirmed. The program can use the seed method of an environment to seed the random number generator for the environment.\n",
        "\n",
        "The Gym library allows us to query some of these attributes from environments. I created the following function to query gym environments.\n"
      ]
    },
    {
      "cell_type": "code",
      "execution_count": 1,
      "metadata": {
        "id": "cciTuR2MIeX-"
      },
      "outputs": [],
      "source": [
        "import gym\n",
        "\n",
        "\n",
        "def query_environment(name):\n",
        "    env = gym.make(name)\n",
        "    spec = gym.spec(name)\n",
        "    print(f\"Action Space: {env.action_space}\")\n",
        "    print(f\"Observation Space: {env.observation_space}\")\n",
        "    print(f\"Max Episode Steps: {spec.max_episode_steps}\")\n",
        "    print(f\"Nondeterministic: {spec.nondeterministic}\")\n",
        "    print(f\"Reward Range: {env.reward_range}\")\n",
        "    print(f\"Reward Threshold: {spec.reward_threshold}\")\n"
      ]
    },
    {
      "cell_type": "markdown",
      "metadata": {
        "id": "kRXfAdwFDwUm"
      },
      "source": [
        "We will look at the **MountainCar-v0** environment, which challenges an underpowered car to escape the valley between two mountains.  The following code describes the Mountian Car environment."
      ]
    },
    {
      "cell_type": "code",
      "execution_count": 2,
      "metadata": {
        "colab": {
          "base_uri": "https://localhost:8080/"
        },
        "id": "XYwy9cjlJjEH",
        "outputId": "4355a183-c5ee-496c-c981-5d37df99ca98"
      },
      "outputs": [
        {
          "output_type": "stream",
          "name": "stdout",
          "text": [
            "Action Space: Discrete(3)\n",
            "Observation Space: Box(-1.2000000476837158, 0.6000000238418579, (2,), float32)\n",
            "Max Episode Steps: 200\n",
            "Nondeterministic: False\n",
            "Reward Range: (-inf, inf)\n",
            "Reward Threshold: -110.0\n"
          ]
        }
      ],
      "source": [
        "query_environment(\"MountainCar-v0\")"
      ]
    },
    {
      "cell_type": "markdown",
      "metadata": {
        "id": "1TsQiaGJE3UA"
      },
      "source": [
        "This environment allows three distinct actions: accelerate forward, decelerate, or backward. The observation space contains two continuous (floating point) values, as evident by the box object. The observation space is simply the position and velocity of the car. The car has 200 steps to escape for each episode. You would have to look at the code, but the mountain car receives no incremental reward. The only reward for the vehicle occurs when it escapes the valley.  "
      ]
    },
    {
      "cell_type": "code",
      "execution_count": 3,
      "metadata": {
        "colab": {
          "base_uri": "https://localhost:8080/"
        },
        "id": "RF4n5cYEMyru",
        "outputId": "b34310d5-f986-40db-a63c-e13c6782f587"
      },
      "outputs": [
        {
          "output_type": "stream",
          "name": "stdout",
          "text": [
            "Action Space: Discrete(2)\n",
            "Observation Space: Box(-3.4028234663852886e+38, 3.4028234663852886e+38, (4,), float32)\n",
            "Max Episode Steps: 500\n",
            "Nondeterministic: False\n",
            "Reward Range: (-inf, inf)\n",
            "Reward Threshold: 475.0\n"
          ]
        }
      ],
      "source": [
        "query_environment(\"CartPole-v1\")"
      ]
    },
    {
      "cell_type": "markdown",
      "metadata": {
        "id": "QwvVKrNebUHJ"
      },
      "source": [
        "The **CartPole-v1** environment challenges the agent to balance a pole while the agent. The environment has an observation space of 4 continuous numbers:\n",
        "\n",
        "* Cart Position\n",
        "* Cart Velocity\n",
        "* Pole Angle\n",
        "* Pole Velocity At Tip\n",
        "\n",
        "To achieve this goal, the agent can take the following actions:\n",
        "\n",
        "* Push cart to the left\n",
        "* Push cart to the right\n",
        "\n",
        "There is also a continuous variant of the mountain car. This version does not simply have the motor on or off. The action space is a single floating-point number for the continuous cart that specifies how much forward or backward force the cart currently utilizes."
      ]
    },
    {
      "cell_type": "code",
      "execution_count": 4,
      "metadata": {
        "colab": {
          "base_uri": "https://localhost:8080/"
        },
        "id": "UAlaMcJmNSY0",
        "outputId": "0baec3f3-96b2-475c-e9c9-c89878bbdf03"
      },
      "outputs": [
        {
          "output_type": "stream",
          "name": "stdout",
          "text": [
            "Action Space: Box(-1.0, 1.0, (1,), float32)\n",
            "Observation Space: Box(-1.2000000476837158, 0.6000000238418579, (2,), float32)\n",
            "Max Episode Steps: 999\n",
            "Nondeterministic: False\n",
            "Reward Range: (-inf, inf)\n",
            "Reward Threshold: 90.0\n"
          ]
        }
      ],
      "source": [
        "query_environment(\"MountainCarContinuous-v0\")"
      ]
    },
    {
      "cell_type": "markdown",
      "metadata": {
        "id": "JBrlG1t6ceIa"
      },
      "source": [
        "Note: If you see a warning above, you can safely ignore it; it is a relatively minor bug in OpenAI Gym.\n",
        "\n",
        "Atari games, like breakout, can use an observation space that is either equal to the size of the Atari screen (210x160) or even use the RAM of the Atari (128 bytes) to determine the state of the game.  Yes, that's bytes, not kilobytes!"
      ]
    },
    {
      "cell_type": "code",
      "execution_count": 6,
      "metadata": {
        "colab": {
          "base_uri": "https://localhost:8080/"
        },
        "id": "G6uBDj0Zyw88",
        "outputId": "521caa2f-b921-42a6-f47e-b7bb681c5594"
      },
      "outputs": [
        {
          "output_type": "stream",
          "name": "stdout",
          "text": [
            "--2022-08-03 08:18:34--  http://www.atarimania.com/roms/Roms.rar\n",
            "Resolving www.atarimania.com (www.atarimania.com)... 195.154.81.199\n",
            "Connecting to www.atarimania.com (www.atarimania.com)|195.154.81.199|:80... connected.\n",
            "HTTP request sent, awaiting response... 200 OK\n",
            "Length: 19583716 (19M) [application/x-rar-compressed]\n",
            "Saving to: ‘Roms.rar’\n",
            "\n",
            "Roms.rar            100%[===================>]  18.68M   628KB/s    in 32s     \n",
            "\n",
            "2022-08-03 08:19:06 (606 KB/s) - ‘Roms.rar’ saved [19583716/19583716]\n",
            "\n"
          ]
        }
      ],
      "source": [
        "# HIDE OUTPUT\n",
        "!wget http://www.atarimania.com/roms/Roms.rar \n",
        "!unrar x -o+ /content/Roms.rar >/dev/nul\n",
        "!python -m atari_py.import_roms /content/ROMS >/dev/nul"
      ]
    },
    {
      "cell_type": "code",
      "execution_count": 7,
      "metadata": {
        "colab": {
          "base_uri": "https://localhost:8080/"
        },
        "id": "ndTb-9pgJizW",
        "outputId": "7bcd7f15-860d-4ab9-b940-85cd8360be07"
      },
      "outputs": [
        {
          "output_type": "stream",
          "name": "stdout",
          "text": [
            "Action Space: Discrete(4)\n",
            "Observation Space: Box(0, 255, (210, 160, 3), uint8)\n",
            "Max Episode Steps: 10000\n",
            "Nondeterministic: False\n",
            "Reward Range: (-inf, inf)\n",
            "Reward Threshold: None\n"
          ]
        }
      ],
      "source": [
        "query_environment(\"Breakout-v0\")"
      ]
    },
    {
      "cell_type": "code",
      "execution_count": null,
      "metadata": {
        "colab": {
          "base_uri": "https://localhost:8080/"
        },
        "id": "Ni1rxzmLKAdH",
        "outputId": "f9b1f392-9f70-40f4-f259-e7822fc60e4a"
      },
      "outputs": [
        {
          "name": "stdout",
          "output_type": "stream",
          "text": [
            "Action Space: Discrete(4)\n",
            "Observation Space: Box(0, 255, (128,), uint8)\n",
            "Max Episode Steps: 10000\n",
            "Nondeterministic: False\n",
            "Reward Range: (-inf, inf)\n",
            "Reward Threshold: None\n"
          ]
        }
      ],
      "source": [
        "query_environment(\"Breakout-ram-v0\")"
      ]
    },
    {
      "cell_type": "markdown",
      "metadata": {
        "id": "3E253PBGPRuw"
      },
      "source": [
        "## Render OpenAI Gym Environments from CoLab\n",
        "\n",
        "It is possible to visualize the game your agent is playing, even on CoLab. This section provides information on generating a video in CoLab that shows you an episode of the game your agent is playing. I based this video process on suggestions found [here](https://colab.research.google.com/drive/1flu31ulJlgiRL1dnN2ir8wGh9p7Zij2t).\n",
        "\n",
        "Begin by installing **pyvirtualdisplay** and **python-opengl**."
      ]
    },
    {
      "cell_type": "code",
      "execution_count": 8,
      "metadata": {
        "id": "uF92FCzZMWPn"
      },
      "outputs": [],
      "source": [
        "# HIDE OUTPUT\n",
        "!pip install gym pyvirtualdisplay > /dev/null 2>&1\n",
        "!apt-get install -y xvfb python-opengl ffmpeg > /dev/null 2>&1"
      ]
    },
    {
      "cell_type": "markdown",
      "metadata": {
        "id": "hS7L8kFMLkjN"
      },
      "source": [
        "Next, we install the needed requirements to display an Atari game."
      ]
    },
    {
      "cell_type": "code",
      "execution_count": 9,
      "metadata": {
        "colab": {
          "base_uri": "https://localhost:8080/",
          "height": 294
        },
        "id": "78BfQoQKOq7z",
        "outputId": "0d4b28e2-dd02-4927-a96f-dc35c9794611"
      },
      "outputs": [
        {
          "output_type": "stream",
          "name": "stdout",
          "text": [
            "Looking in indexes: https://pypi.org/simple, https://us-python.pkg.dev/colab-wheels/public/simple/\n",
            "Requirement already satisfied: setuptools in /usr/local/lib/python3.7/dist-packages (57.4.0)\n",
            "Collecting setuptools\n",
            "  Downloading setuptools-63.4.0-py3-none-any.whl (1.2 MB)\n",
            "\u001b[K     |████████████████████████████████| 1.2 MB 5.1 MB/s \n",
            "\u001b[?25hInstalling collected packages: setuptools\n",
            "  Attempting uninstall: setuptools\n",
            "    Found existing installation: setuptools 57.4.0\n",
            "    Uninstalling setuptools-57.4.0:\n",
            "      Successfully uninstalled setuptools-57.4.0\n",
            "Successfully installed setuptools-63.4.0\n"
          ]
        },
        {
          "output_type": "display_data",
          "data": {
            "application/vnd.colab-display-data+json": {
              "pip_warning": {
                "packages": [
                  "pkg_resources"
                ]
              }
            }
          },
          "metadata": {}
        }
      ],
      "source": [
        "# HIDE OUTPUT\n",
        "!apt-get update > /dev/null 2>&1\n",
        "!apt-get install cmake > /dev/null 2>&1\n",
        "!pip install --upgrade setuptools 2>&1\n",
        "!pip install ez_setup > /dev/null 2>&1\n",
        "!pip install gym[atari] > /dev/null 2>&1"
      ]
    },
    {
      "cell_type": "markdown",
      "metadata": {
        "id": "NjTHm2SpLz10"
      },
      "source": [
        "Next, we define the functions used to show the video by adding it to the CoLab notebook."
      ]
    },
    {
      "cell_type": "code",
      "execution_count": 10,
      "metadata": {
        "id": "T9RpF49oOsZj"
      },
      "outputs": [],
      "source": [
        "import gym\n",
        "from gym.wrappers import Monitor\n",
        "import glob\n",
        "import io\n",
        "import base64\n",
        "from IPython.display import HTML\n",
        "from pyvirtualdisplay import Display\n",
        "from IPython import display as ipythondisplay\n",
        "\n",
        "display = Display(visible=0, size=(1400, 900))\n",
        "display.start()\n",
        "\n",
        "\"\"\"\n",
        "Utility functions to enable video recording of gym environment \n",
        "and displaying it.\n",
        "To enable video, just do \"env = wrap_env(env)\"\"\n",
        "\"\"\"\n",
        "\n",
        "\n",
        "def show_video():\n",
        "    mp4list = glob.glob('video/*.mp4')\n",
        "    if len(mp4list) > 0:\n",
        "        mp4 = mp4list[0]\n",
        "        video = io.open(mp4, 'r+b').read()\n",
        "        encoded = base64.b64encode(video)\n",
        "        ipythondisplay.display(HTML(data='''<video alt=\"test\" autoplay \n",
        "                loop controls style=\"height: 400px;\">\n",
        "                <source src=\"data:video/mp4;base64,{0}\" type=\"video/mp4\" />\n",
        "             </video>'''.format(encoded.decode('ascii'))))\n",
        "    else:\n",
        "        print(\"Could not find video\")\n",
        "\n",
        "\n",
        "def wrap_env(env):\n",
        "    env = Monitor(env, './video', force=True)\n",
        "    return env\n"
      ]
    },
    {
      "cell_type": "markdown",
      "metadata": {
        "id": "K6NATj-kNADT"
      },
      "source": [
        "Now we are ready to play the game.  We use a simple random agent."
      ]
    },
    {
      "cell_type": "code",
      "execution_count": 16,
      "metadata": {
        "colab": {
          "base_uri": "https://localhost:8080/",
          "height": 421
        },
        "id": "XDKGJ9A3O8fT",
        "outputId": "a1957406-6188-4ce2-965d-10137dc5d074"
      },
      "outputs": [
        {
          "output_type": "display_data",
          "data": {
            "text/plain": [
              "<IPython.core.display.HTML object>"
            ],
            "text/html": [
              "<video alt=\"test\" autoplay \n",
              "                loop controls style=\"height: 400px;\">\n",
              "                <source src=\"data:video/mp4;base64,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\" type=\"video/mp4\" />\n",
              "             </video>"
            ]
          },
          "metadata": {}
        }
      ],
      "source": [
        "# HIDE OUTPUT\n",
        "#env = wrap_env(gym.make(\"MountainCar-v0\"))\n",
        "#env = wrap_env(gym.make(\"Atlantis-v0\"))\n",
        "#env = wrap_env(gym.make(\"Breakout-v0\"))\n",
        "#env = wrap_env(gym.make(\"AirRaid-v0\"))\n",
        "env = wrap_env(gym.make(\"Pong-v0\"))\n",
        "\n",
        "\n",
        "observation = env.reset()\n",
        "\n",
        "while True:\n",
        "\n",
        "    env.render()\n",
        "\n",
        "    # your agent goes here\n",
        "    action = env.action_space.sample()\n",
        "\n",
        "    observation, reward, done, info = env.step(action)\n",
        "\n",
        "    if done:\n",
        "        break\n",
        "\n",
        "env.close()\n",
        "show_video()\n"
      ]
    }
  ],
  "metadata": {
    "anaconda-cloud": {},
    "colab": {
      "collapsed_sections": [],
      "name": "t81_558_class_12_01_ai_gym.ipynb",
      "provenance": [],
      "include_colab_link": true
    },
    "kernelspec": {
      "display_name": "Python 3.9 (tensorflow)",
      "language": "python",
      "name": "tensorflow"
    },
    "language_info": {
      "codemirror_mode": {
        "name": "ipython",
        "version": 3
      },
      "file_extension": ".py",
      "mimetype": "text/x-python",
      "name": "python",
      "nbconvert_exporter": "python",
      "pygments_lexer": "ipython3",
      "version": "3.9.7"
    },
    "varInspector": {
      "cols": {
        "lenName": 16,
        "lenType": 16,
        "lenVar": 40
      },
      "kernels_config": {
        "python": {
          "delete_cmd_postfix": "",
          "delete_cmd_prefix": "del ",
          "library": "var_list.py",
          "varRefreshCmd": "print(var_dic_list())"
        },
        "r": {
          "delete_cmd_postfix": ") ",
          "delete_cmd_prefix": "rm(",
          "library": "var_list.r",
          "varRefreshCmd": "cat(var_dic_list()) "
        }
      },
      "types_to_exclude": [
        "module",
        "function",
        "builtin_function_or_method",
        "instance",
        "_Feature"
      ],
      "window_display": false
    }
  },
  "nbformat": 4,
  "nbformat_minor": 0
}