{
  "nbformat": 4,
  "nbformat_minor": 0,
  "metadata": {
    "colab": {
      "name": "Copy of testingMore.ipynb",
      "provenance": [],
      "authorship_tag": "ABX9TyMHJ6djqu4e+FcGDA7As0hY",
      "include_colab_link": true
    },
    "kernelspec": {
      "name": "python3",
      "display_name": "Python 3"
    },
    "language_info": {
      "name": "python"
    }
  },
  "cells": [
    {
      "cell_type": "markdown",
      "metadata": {
        "id": "view-in-github",
        "colab_type": "text"
      },
      "source": [
        "<a href=\"https://colab.research.google.com/github/stispe/RLtest1/blob/main/testingMore.ipynb\" target=\"_parent\"><img src=\"https://colab.research.google.com/assets/colab-badge.svg\" alt=\"Open In Colab\"/></a>"
      ]
    },
    {
      "cell_type": "markdown",
      "source": [
        "Må test litt..."
      ],
      "metadata": {
        "id": "dNhHTkF4LYcR"
      }
    },
    {
      "cell_type": "code",
      "source": [
        "import gym\n",
        "e = gym.make('CartPole-v0')"
      ],
      "metadata": {
        "id": "j3VCtnywPp2o"
      },
      "execution_count": null,
      "outputs": []
    },
    {
      "cell_type": "code",
      "source": [
        "obs = e.reset()\n",
        "obs"
      ],
      "metadata": {
        "id": "MFlmwQRfXBUK",
        "outputId": "ac89b158-6214-40ed-bd8a-2fd7e1dcc119",
        "colab": {
          "base_uri": "https://localhost:8080/"
        }
      },
      "execution_count": null,
      "outputs": [
        {
          "output_type": "execute_result",
          "data": {
            "text/plain": [
              "array([-0.01554548, -0.0462421 ,  0.00325759, -0.01541146])"
            ]
          },
          "metadata": {},
          "execution_count": 4
        }
      ]
    },
    {
      "cell_type": "code",
      "source": [
        "e.action_space"
      ],
      "metadata": {
        "id": "rs6coJ6OXMcf",
        "outputId": "cd41cf10-970c-4a27-818d-08f0e6d3f9c9",
        "colab": {
          "base_uri": "https://localhost:8080/"
        }
      },
      "execution_count": null,
      "outputs": [
        {
          "output_type": "execute_result",
          "data": {
            "text/plain": [
              "Discrete(2)"
            ]
          },
          "metadata": {},
          "execution_count": 5
        }
      ]
    },
    {
      "cell_type": "code",
      "source": [
        "e.observation_space"
      ],
      "metadata": {
        "id": "_zjJGzMpXP-7",
        "outputId": "1650294f-d58e-4fa0-e0f1-93ae1d44571c",
        "colab": {
          "base_uri": "https://localhost:8080/"
        }
      },
      "execution_count": null,
      "outputs": [
        {
          "output_type": "execute_result",
          "data": {
            "text/plain": [
              "Box(-3.4028234663852886e+38, 3.4028234663852886e+38, (4,), float32)"
            ]
          },
          "metadata": {},
          "execution_count": 6
        }
      ]
    },
    {
      "cell_type": "code",
      "source": [
        "e.step(0)"
      ],
      "metadata": {
        "id": "GhsIgOVoXkWq",
        "outputId": "ef825dae-84df-4cd0-96da-43770a83a99e",
        "colab": {
          "base_uri": "https://localhost:8080/"
        }
      },
      "execution_count": null,
      "outputs": [
        {
          "output_type": "execute_result",
          "data": {
            "text/plain": [
              "(array([-0.01647032, -0.24141061,  0.00294936,  0.2782975 ]), 1.0, False, {})"
            ]
          },
          "metadata": {},
          "execution_count": 7
        }
      ]
    },
    {
      "cell_type": "code",
      "source": [
        "e.action_space.sample()"
      ],
      "metadata": {
        "id": "ZUtRYkAyYi2T",
        "outputId": "99605403-2802-46f2-f1ed-f3506eb05b57",
        "colab": {
          "base_uri": "https://localhost:8080/"
        }
      },
      "execution_count": null,
      "outputs": [
        {
          "output_type": "execute_result",
          "data": {
            "text/plain": [
              "0"
            ]
          },
          "metadata": {},
          "execution_count": 12
        }
      ]
    },
    {
      "cell_type": "code",
      "source": [
        "e.observation_space.sample()"
      ],
      "metadata": {
        "id": "0jmZar3CYrmw",
        "outputId": "bffb9700-2f5c-4d8a-a39c-68bc28289438",
        "colab": {
          "base_uri": "https://localhost:8080/"
        }
      },
      "execution_count": null,
      "outputs": [
        {
          "output_type": "execute_result",
          "data": {
            "text/plain": [
              "array([-5.2507520e-01,  2.2904994e+38,  2.4050227e-01,  1.8308570e+38],\n",
              "      dtype=float32)"
            ]
          },
          "metadata": {},
          "execution_count": 14
        }
      ]
    },
    {
      "cell_type": "code",
      "source": [
        "env = gym.make('CartPole-v0')\n",
        "total_reward = 0.0\n",
        "total_steps = 0\n",
        "obs = env.reset()"
      ],
      "metadata": {
        "id": "QBD_8A20ZQhb"
      },
      "execution_count": null,
      "outputs": []
    },
    {
      "cell_type": "code",
      "source": [
        "while True:\n",
        "  action = env.action_space.sample()\n",
        "  obs, reward, done, _ = env.step(action)\n",
        "  total_reward += reward\n",
        "  total_steps += 1\n",
        "  if done: break\n",
        "print(\"Episode done in %d steps, total reward %.2f\" % (total_steps, total_reward))"
      ],
      "metadata": {
        "id": "7lR9wPtxZxzu",
        "outputId": "7cbdd664-1e56-4776-f8ee-b2694e22e071",
        "colab": {
          "base_uri": "https://localhost:8080/"
        }
      },
      "execution_count": null,
      "outputs": [
        {
          "output_type": "stream",
          "name": "stdout",
          "text": [
            "Episode done in 20 steps, total reward 20.00\n"
          ]
        }
      ]
    }
  ]
}