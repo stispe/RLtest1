{
  "nbformat": 4,
  "nbformat_minor": 0,
  "metadata": {
    "colab": {
      "name": "testingMore.ipynb",
      "provenance": [],
      "authorship_tag": "ABX9TyOsv15fCrDJPWgBimda97wc",
      "include_colab_link": true
    },
    "kernelspec": {
      "name": "python3",
      "display_name": "Python 3"
    },
    "language_info": {
      "name": "python"
    }
  },
  "cells": [
    {
      "cell_type": "markdown",
      "metadata": {
        "id": "view-in-github",
        "colab_type": "text"
      },
      "source": [
        "<a href=\"https://colab.research.google.com/github/stispe/RLtest1/blob/main/testingMore.ipynb\" target=\"_parent\"><img src=\"https://colab.research.google.com/assets/colab-badge.svg\" alt=\"Open In Colab\"/></a>"
      ]
    },
    {
      "cell_type": "markdown",
      "source": [
        "Må test litt..."
      ],
      "metadata": {
        "id": "dNhHTkF4LYcR"
      }
    },
    {
      "cell_type": "code",
      "source": [
        "import gym\n",
        "e = gym.make('CartPole-v0')"
      ],
      "metadata": {
        "id": "j3VCtnywPp2o"
      },
      "execution_count": 3,
      "outputs": []
    }
  ]
}